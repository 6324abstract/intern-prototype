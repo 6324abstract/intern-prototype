{
 "cells": [
  {
   "cell_type": "code",
   "execution_count": 1,
   "id": "0f2500ca-56a2-41a9-acc3-73f9e1ec1283",
   "metadata": {
    "pycharm": {
     "name": "#%%\n"
    }
   },
   "outputs": [],
   "source": [
    "from cwdb import (\n",
    "    CWComplex,\n",
    "    Cell,\n",
    "    to_lang_representation\n",
    ")\n",
    "from cwdb.rules import apply_rule"
   ]
  },
  {
   "cell_type": "code",
   "execution_count": 2,
   "id": "95395184-20f7-4211-84ac-f9e73fa75966",
   "metadata": {
    "pycharm": {
     "name": "#%%\n"
    }
   },
   "outputs": [],
   "source": [
    "from cwdb.ilogic import get_truth_value"
   ]
  },
  {
   "cell_type": "code",
   "execution_count": 3,
   "id": "03486a4b-c9d3-4c19-8f05-181cd7f03496",
   "metadata": {
    "pycharm": {
     "name": "#%%\n"
    }
   },
   "outputs": [],
   "source": [
    "import numpy as np"
   ]
  },
  {
   "cell_type": "code",
   "execution_count": 4,
   "id": "6c28e9b8-7de3-4b31-86af-da88a82d80d0",
   "metadata": {
    "pycharm": {
     "name": "#%%\n"
    }
   },
   "outputs": [
    {
     "data": {
      "text/plain": [
       "Cell(\"is\", embedding=[], dimension=1, boundary=[\"water\", \"liquid\"])"
      ]
     },
     "execution_count": 4,
     "metadata": {},
     "output_type": "execute_result"
    }
   ],
   "source": [
    "c = CWComplex()\n",
    "\n",
    "robin = c.create_cell(\"robin\")\n",
    "bird = c.create_cell(\"bird\")\n",
    "animal = c.create_cell(\"animal\")\n",
    "water = c.create_cell(\"water\")\n",
    "liquid = c.create_cell(\"liquid\")\n",
    "vertebrate = c.create_cell(\"vertebrate\")\n",
    "\n",
    "animal_have_wings = c.create_cell(\"animal_have_wings\")\n",
    "animal_flying = c.create_cell(\"animal_flying\")\n",
    "\n",
    "is_1 = c.create_cell(\"is\", [c[\"robin\"], bird])\n",
    "c.create_cell(\"is\", [robin, animal_have_wings])\n",
    "c.create_cell(\"is\", [animal_have_wings, animal_flying])\n",
    "c.create_cell(\"is\", [animal_flying, animal])\n",
    "is_2 = c.create_cell(\"is\", [bird, vertebrate])\n",
    "c.create_cell(\"is\", [vertebrate, animal])\n",
    "c.create_cell(\"is\", [water, liquid])"
   ]
  },
  {
   "cell_type": "code",
   "execution_count": 5,
   "id": "69f6888a-698e-4ff2-bb79-760fd1c5f1e0",
   "metadata": {
    "pycharm": {
     "name": "#%%\n"
    }
   },
   "outputs": [],
   "source": [
    "# Difficulty: run confidence revision based on part of the database\n",
    "# Two rules to resolve \"TruthValue\" inconsistency:\n",
    "#     1. revision rule\n",
    "#     2. choice rule"
   ]
  },
  {
   "cell_type": "code",
   "execution_count": 6,
   "id": "6c8fab92-c639-4114-9ec3-6f895fe68ae5",
   "metadata": {
    "pycharm": {
     "name": "#%%\n"
    }
   },
   "outputs": [],
   "source": [
    "c.build_coboundary()"
   ]
  },
  {
   "cell_type": "code",
   "execution_count": 7,
   "id": "f0c4d064-9c19-45d5-b1b0-8384ad15cc64",
   "metadata": {
    "pycharm": {
     "name": "#%%\n"
    }
   },
   "outputs": [],
   "source": [
    "for e in c.layers[1]:\n",
    "    x, y  = e.boundary[:2]\n",
    "    e.data.embedding = np.array(get_truth_value(x, y))"
   ]
  },
  {
   "cell_type": "code",
   "execution_count": 8,
   "id": "e0c37df2-bac3-49b6-a526-27ec226b1ed2",
   "metadata": {
    "pycharm": {
     "name": "#%%\n"
    }
   },
   "outputs": [
    {
     "data": {
      "text/plain": [
       "Cell(\"is\", embedding=[1.         0.66666667], dimension=1, boundary=[\"bird\", \"vertebrate\"])"
      ]
     },
     "execution_count": 8,
     "metadata": {},
     "output_type": "execute_result"
    }
   ],
   "source": [
    "is_2"
   ]
  },
  {
   "cell_type": "code",
   "execution_count": 9,
   "id": "016b2f21-acfe-46fe-9d2a-bfef56fa3e5c",
   "metadata": {
    "pycharm": {
     "name": "#%%\n"
    }
   },
   "outputs": [],
   "source": [
    "is_2_dup = c.create_cell(\"is\", [bird, vertebrate])\n",
    "is_2_dup.data.embedding = np.array([0.5, 0.8])"
   ]
  },
  {
   "cell_type": "code",
   "execution_count": 10,
   "id": "2c588558-8398-40da-a5c4-c9b6034de676",
   "metadata": {
    "pycharm": {
     "name": "#%%\n"
    }
   },
   "outputs": [],
   "source": [
    "class QueryError(RuntimeError):\n",
    "    def __init__(self, message, offending):\n",
    "        super().__init__(message)\n",
    "        self.offending = offending"
   ]
  },
  {
   "cell_type": "code",
   "execution_count": 11,
   "id": "99315d2c-b6d4-4b73-acfe-6e7bb1846df0",
   "metadata": {
    "pycharm": {
     "name": "#%%\n"
    }
   },
   "outputs": [],
   "source": [
    "def query(label:str, boundary):\n",
    "    x, y  = boundary[:2]\n",
    "    result = None\n",
    "    for e in x.coboundary:\n",
    "        if e.dimension == 1 and e.label == label and e.boundary[1] is y:\n",
    "            if result is None:\n",
    "                result = e\n",
    "                continue\n",
    "            else:\n",
    "                raise QueryError(\"Uncertainty detected\", [result, e])\n",
    "    if result is None:\n",
    "        return np.array([0.5, 0])\n",
    "    return result.embedding"
   ]
  },
  {
   "cell_type": "code",
   "execution_count": 12,
   "id": "e9fe7d6d-1839-4138-9dcf-8cfc3c9e66ef",
   "metadata": {
    "pycharm": {
     "name": "#%%\n"
    }
   },
   "outputs": [],
   "source": [
    "c.build_coboundary()"
   ]
  },
  {
   "cell_type": "code",
   "execution_count": 13,
   "id": "e4d2cb1c-18d0-457d-843f-1c2ca64b4a86",
   "metadata": {
    "pycharm": {
     "name": "#%%\n"
    }
   },
   "outputs": [],
   "source": [
    "#query(\"is\", [bird, vertebrate])"
   ]
  },
  {
   "cell_type": "code",
   "execution_count": 14,
   "id": "116de569-22c6-4551-aba0-f279166d77d4",
   "metadata": {
    "pycharm": {
     "name": "#%%\n"
    }
   },
   "outputs": [
    {
     "data": {
      "text/plain": [
       "array([1.        , 0.66666667])"
      ]
     },
     "execution_count": 14,
     "metadata": {},
     "output_type": "execute_result"
    }
   ],
   "source": [
    "query(\"is\", [robin, bird])"
   ]
  },
  {
   "cell_type": "code",
   "execution_count": 15,
   "id": "e315fc8d-3a44-429d-91de-17954b7549b0",
   "metadata": {
    "pycharm": {
     "name": "#%%\n"
    }
   },
   "outputs": [
    {
     "data": {
      "text/plain": [
       "array([0.5, 0. ])"
      ]
     },
     "execution_count": 15,
     "metadata": {},
     "output_type": "execute_result"
    }
   ],
   "source": [
    "query(\"is\", [robin, water])"
   ]
  },
  {
   "cell_type": "code",
   "execution_count": 16,
   "id": "1fcc0235-7667-473d-b70e-c411066c55f2",
   "metadata": {
    "pycharm": {
     "name": "#%%\n"
    }
   },
   "outputs": [],
   "source": [
    "def revision_rule(e1:Cell, e2:Cell) -> Cell:\n",
    "    assert e1.label == e2.label\n",
    "    assert e1.boundary == e2.boundary\n",
    "    f1, c1 = e1.embedding\n",
    "    f2, c2 = e2.embedding\n",
    "    f3 = (f1 * c1 * (1 - c2) + f2 * c2 * (1 - c1) ) / (c1 * (1-c2) + c2 * (1-c1) )\n",
    "    c3 = (c1 * (1-c2) + c2 * (1-c1) ) / ( (c1 * (1-c2) + c2 * (1-c1) ) + (1-c1)*(1-c2) )\n",
    "    \n",
    "    result = c.create_cell(e1.label, e1.boundary)\n",
    "    result.data.embedding = np.array([f3, c3])\n",
    "    e1.data.deleted = True\n",
    "    e2.data.deleted = True\n",
    "    return result\n",
    "    "
   ]
  },
  {
   "cell_type": "code",
   "execution_count": 17,
   "id": "ff092353-0f75-4d42-b758-95d0479af16c",
   "metadata": {
    "pycharm": {
     "name": "#%%\n"
    }
   },
   "outputs": [],
   "source": [
    "def choice_rule(e1:Cell, e2:Cell) -> Cell:\n",
    "    assert e1.label == e2.label\n",
    "    assert e1.boundary == e2.boundary\n",
    "    f1, c1 = e1.embedding\n",
    "    f2, c2 = e2.embedding\n",
    "    if c1 > c2:\n",
    "        e1, e2 = e2, e1\n",
    "    e1.data.deleted = True\n",
    "    return e2\n"
   ]
  },
  {
   "cell_type": "code",
   "execution_count": 27,
   "id": "be0dde55-8aee-4988-87f7-87ce326a0ae1",
   "metadata": {
    "pycharm": {
     "name": "#%%\n"
    }
   },
   "outputs": [],
   "source": [
    "def random_rule(e1:Cell, e2:Cell) -> Cell:\n",
    "    assert e1.label == e2.label\n",
    "    assert e1.boundary == e2.boundary\n",
    "    if np.random.random() > 0.5:\n",
    "        rule = choice_rule\n",
    "    else:\n",
    "        rule = revision_rule\n",
    "    return rule(e1, e2)"
   ]
  },
  {
   "cell_type": "code",
   "execution_count": 19,
   "id": "ab34980f-9b8b-447d-acb2-045afdbb39da",
   "metadata": {
    "pycharm": {
     "name": "#%%\n"
    }
   },
   "outputs": [
    {
     "name": "stdout",
     "output_type": "stream",
     "text": [
      "robin: 'robin'\n",
      "bird: 'bird'\n",
      "animal: 'animal'\n",
      "water: 'water'\n",
      "liquid: 'liquid'\n",
      "vertebrate: 'vertebrate'\n",
      "animal_have_wings: 'animal_have_wings'\n",
      "animal_flying: 'animal_flying'\n",
      "is: robin->bird: 'is'\n",
      "is_1: robin->animal_have_wings: 'is'\n",
      "is_2: animal_have_wings->animal_flying: 'is'\n",
      "is_3: animal_flying->animal: 'is'\n",
      "is_4: bird->vertebrate: 'is'\n",
      "is_5: vertebrate->animal: 'is'\n",
      "is_6: water->liquid: 'is'\n",
      "is_7: bird->vertebrate: 'is'\n",
      "\n"
     ]
    }
   ],
   "source": [
    "print(to_lang_representation(c))"
   ]
  },
  {
   "cell_type": "code",
   "execution_count": 20,
   "id": "fc5e5b63-d1ac-4a95-9043-884d8e0485d9",
   "metadata": {
    "pycharm": {
     "name": "#%%\n"
    }
   },
   "outputs": [],
   "source": [
    "#revision_rule(is_2, is_2_dup)"
   ]
  },
  {
   "cell_type": "code",
   "execution_count": 21,
   "id": "330baafd-dbd7-4a4a-9038-a93cbb7947dd",
   "metadata": {
    "pycharm": {
     "name": "#%%\n"
    }
   },
   "outputs": [],
   "source": [
    "#choice_rule(is_2, is_2_dup)"
   ]
  },
  {
   "cell_type": "code",
   "execution_count": 22,
   "id": "7d2b16cc-da99-4a67-b05e-3f96fd55aed9",
   "metadata": {
    "pycharm": {
     "name": "#%%\n"
    }
   },
   "outputs": [
    {
     "name": "stdout",
     "output_type": "stream",
     "text": [
      "robin: 'robin'\n",
      "bird: 'bird'\n",
      "animal: 'animal'\n",
      "water: 'water'\n",
      "liquid: 'liquid'\n",
      "vertebrate: 'vertebrate'\n",
      "animal_have_wings: 'animal_have_wings'\n",
      "animal_flying: 'animal_flying'\n",
      "is: robin->bird: 'is'\n",
      "is_1: robin->animal_have_wings: 'is'\n",
      "is_2: animal_have_wings->animal_flying: 'is'\n",
      "is_3: animal_flying->animal: 'is'\n",
      "is_4: bird->vertebrate: 'is'\n",
      "is_5: vertebrate->animal: 'is'\n",
      "is_6: water->liquid: 'is'\n",
      "is_7: bird->vertebrate: 'is'\n",
      "\n"
     ]
    }
   ],
   "source": [
    "print(to_lang_representation(c))"
   ]
  },
  {
   "cell_type": "code",
   "execution_count": 23,
   "id": "833c81ec-daa3-4289-addb-cbcc8c06eb2a",
   "metadata": {
    "pycharm": {
     "name": "#%%\n"
    }
   },
   "outputs": [],
   "source": [
    "def mega_query(label:str, boundary):\n",
    "    while True:\n",
    "        try:\n",
    "            return query(label, boundary)\n",
    "        except QueryError as e:\n",
    "            random_rule(*e.offending)"
   ]
  },
  {
   "cell_type": "code",
   "execution_count": 24,
   "id": "e1c9ec07-5d29-4982-a8f0-449e844af096",
   "metadata": {
    "pycharm": {
     "name": "#%%\n"
    }
   },
   "outputs": [
    {
     "name": "stdout",
     "output_type": "stream",
     "text": [
      "robin: 'robin'\n",
      "bird: 'bird'\n",
      "animal: 'animal'\n",
      "water: 'water'\n",
      "liquid: 'liquid'\n",
      "vertebrate: 'vertebrate'\n",
      "animal_have_wings: 'animal_have_wings'\n",
      "animal_flying: 'animal_flying'\n",
      "is: robin->bird: 'is'\n",
      "is_1: robin->animal_have_wings: 'is'\n",
      "is_2: animal_have_wings->animal_flying: 'is'\n",
      "is_3: animal_flying->animal: 'is'\n",
      "is_4: bird->vertebrate: 'is'\n",
      "is_5: vertebrate->animal: 'is'\n",
      "is_6: water->liquid: 'is'\n",
      "is_7: bird->vertebrate: 'is'\n",
      "\n"
     ]
    }
   ],
   "source": [
    "print(to_lang_representation(c))"
   ]
  },
  {
   "cell_type": "code",
   "execution_count": 25,
   "id": "b2870c9c-440e-4f25-90f3-f00cde0fcb84",
   "metadata": {
    "pycharm": {
     "name": "#%%\n"
    }
   },
   "outputs": [
    {
     "data": {
      "text/plain": [
       "array([0.5, 0.8])"
      ]
     },
     "execution_count": 25,
     "metadata": {},
     "output_type": "execute_result"
    }
   ],
   "source": [
    "mega_query(\"is\", [bird, vertebrate])"
   ]
  },
  {
   "cell_type": "code",
   "execution_count": 26,
   "id": "e5b4f8d4-3c26-499f-b940-a6dc6ad313d7",
   "metadata": {
    "pycharm": {
     "name": "#%%\n"
    }
   },
   "outputs": [
    {
     "name": "stdout",
     "output_type": "stream",
     "text": [
      "robin: 'robin'\n",
      "bird: 'bird'\n",
      "animal: 'animal'\n",
      "water: 'water'\n",
      "liquid: 'liquid'\n",
      "vertebrate: 'vertebrate'\n",
      "animal_have_wings: 'animal_have_wings'\n",
      "animal_flying: 'animal_flying'\n",
      "is: robin->bird: 'is'\n",
      "is_1: robin->animal_have_wings: 'is'\n",
      "is_2: animal_have_wings->animal_flying: 'is'\n",
      "is_3: animal_flying->animal: 'is'\n",
      "DELETED_is: bird->vertebrate: '[DELETED] is'\n",
      "is_4: vertebrate->animal: 'is'\n",
      "is_5: water->liquid: 'is'\n",
      "is_6: bird->vertebrate: 'is'\n",
      "\n"
     ]
    }
   ],
   "source": [
    "print(to_lang_representation(c))"
   ]
  },
  {
   "cell_type": "code",
   "execution_count": 30,
   "id": "31201b59-d510-43df-bb50-4292f4674b92",
   "metadata": {
    "pycharm": {
     "name": "#%%\n"
    }
   },
   "outputs": [],
   "source": [
    "def unambiguity_resolution_rule(e1:Cell, e2:Cell) -> Cell:\n",
    "    assert e1.label == e2.label\n",
    "    assert e1.boundary == e2.boundary\n",
    "    # e2.data.deleted = True\n",
    "    result = e1\n",
    "    # assert (e1.data.deleted xor e2.data.deleted) or (new_result and e1.data.deleted and e2.data.deleted)\n",
    "    return e1"
   ]
  },
  {
   "cell_type": "code",
   "execution_count": null,
   "id": "d9b707ed-dc91-4934-9899-6fc95d52aebc",
   "metadata": {
    "pycharm": {
     "name": "#%%\n"
    }
   },
   "outputs": [],
   "source": [
    "# Create Task\n",
    "\n",
    "is_type = c.create_cell(\"is_type\")\n",
    "task = c.create_cell(\"task\")\n",
    "arguments = c.create_cell(\"arguments\")\n"
   ]
  }
 ],
 "metadata": {
  "kernelspec": {
   "display_name": "Python [conda env:root] *",
   "language": "python",
   "name": "conda-root-py"
  },
  "language_info": {
   "codemirror_mode": {
    "name": "ipython",
    "version": 3
   },
   "file_extension": ".py",
   "mimetype": "text/x-python",
   "name": "python",
   "nbconvert_exporter": "python",
   "pygments_lexer": "ipython3",
   "version": "3.9.7"
  }
 },
 "nbformat": 4,
 "nbformat_minor": 5
}
